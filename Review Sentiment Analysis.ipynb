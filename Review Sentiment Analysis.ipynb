{
 "cells": [
  {
   "cell_type": "markdown",
   "metadata": {},
   "source": [
    "# +++++++++ Sentiment Analysis Classifier ++++++++++"
   ]
  },
  {
   "cell_type": "markdown",
   "metadata": {},
   "source": [
    "Importing the Required packages for creating a classifier"
   ]
  },
  {
   "cell_type": "code",
   "execution_count": 1,
   "metadata": {},
   "outputs": [],
   "source": [
    "import nltk.classify.util\n",
    "from nltk.classify import NaiveBayesClassifier\n",
    "from nltk.corpus import movie_reviews"
   ]
  },
  {
   "cell_type": "markdown",
   "metadata": {},
   "source": [
    "Defining a Function to extract Keywords"
   ]
  },
  {
   "cell_type": "code",
   "execution_count": 3,
   "metadata": {},
   "outputs": [],
   "source": [
    "def extract_features(word_list):\n",
    "    return dict([(word, True) for word in word_list])"
   ]
  },
  {
   "cell_type": "markdown",
   "metadata": {},
   "source": [
    "Using NLTK movie review data for training classifier"
   ]
  },
  {
   "cell_type": "code",
   "execution_count": 9,
   "metadata": {},
   "outputs": [],
   "source": [
    "# Loading positive and negative reviews  \n",
    "positive_fileids = movie_reviews.fileids('pos')\n",
    "negative_fileids = movie_reviews.fileids('neg')"
   ]
  },
  {
   "cell_type": "markdown",
   "metadata": {},
   "source": [
    "Seprating files IDs into positive and negative reviews"
   ]
  },
  {
   "cell_type": "code",
   "execution_count": 10,
   "metadata": {},
   "outputs": [],
   "source": [
    "features_positive = [(extract_features(movie_reviews.words(fileids=[f])), 'Positive') for f in positive_fileids]\n",
    "features_negative = [(extract_features(movie_reviews.words(fileids=[f])), 'Negative') for f in negative_fileids]"
   ]
  },
  {
   "cell_type": "markdown",
   "metadata": {},
   "source": [
    "Dividing Data into train and testing part"
   ]
  },
  {
   "cell_type": "code",
   "execution_count": 11,
   "metadata": {},
   "outputs": [],
   "source": [
    "# Split the data into train and test (80/20)\n",
    "threshold_factor = 0.8\n",
    "threshold_positive = int(threshold_factor * len(features_positive))\n",
    "threshold_negative = int(threshold_factor * len(features_negative))"
   ]
  },
  {
   "cell_type": "markdown",
   "metadata": {},
   "source": [
    "Extracting the features"
   ]
  },
  {
   "cell_type": "code",
   "execution_count": 12,
   "metadata": {},
   "outputs": [
    {
     "name": "stdout",
     "output_type": "stream",
     "text": [
      "\n",
      "Number of training datapoints: 1600\n",
      "Number of test datapoints: 400\n"
     ]
    }
   ],
   "source": [
    "features_train = features_positive[:threshold_positive] + features_negative[:threshold_negative]\n",
    "features_test = features_positive[threshold_positive:] + features_negative[threshold_negative:]\n",
    "print(\"\\nNumber of training datapoints:\", len(features_train))\n",
    "print(\"Number of test datapoints:\", len(features_test))"
   ]
  },
  {
   "cell_type": "markdown",
   "metadata": {},
   "source": [
    "Training Naive Bayes Classifier"
   ]
  },
  {
   "cell_type": "code",
   "execution_count": 15,
   "metadata": {},
   "outputs": [
    {
     "name": "stdout",
     "output_type": "stream",
     "text": [
      "Accuracy: 0.735\n"
     ]
    }
   ],
   "source": [
    "# Train a Naive Bayes classifier\n",
    "classifier = NaiveBayesClassifier.train(features_train)\n",
    "print(\"Accuracy:\", nltk.classify.util.accuracy(classifier, features_test))"
   ]
  },
  {
   "cell_type": "markdown",
   "metadata": {},
   "source": [
    "Finding the most effective words that puts impact on the reviews for being positive or negative"
   ]
  },
  {
   "cell_type": "code",
   "execution_count": 17,
   "metadata": {},
   "outputs": [
    {
     "name": "stdout",
     "output_type": "stream",
     "text": [
      "Top 10 most informative words:\n",
      "outstanding\n",
      "insulting\n",
      "vulnerable\n",
      "ludicrous\n",
      "uninvolving\n",
      "astounding\n",
      "avoids\n",
      "fascination\n",
      "symbol\n",
      "animators\n"
     ]
    }
   ],
   "source": [
    "print(\"Top 10 most informative words:\")\n",
    "for item in classifier.most_informative_features()[:10]:\n",
    "    print(item[0])"
   ]
  },
  {
   "cell_type": "markdown",
   "metadata": {},
   "source": [
    "Creating a sample inputs to check the accuracy"
   ]
  },
  {
   "cell_type": "code",
   "execution_count": 30,
   "metadata": {},
   "outputs": [],
   "source": [
    "# Sample input \n",
    "input = [\n",
    "    \"It is a awesome movie, you should watch it\", \n",
    "    \"This is a bad movie. I would never recommend it to anyone.\",\n",
    "    \"The action of salman khan is pretty great in this movie\", \n",
    "    \"The direction was bad\" \n",
    "]"
   ]
  },
  {
   "cell_type": "markdown",
   "metadata": {},
   "source": [
    "Running the classifier on those inputs"
   ]
  },
  {
   "cell_type": "code",
   "execution_count": 33,
   "metadata": {},
   "outputs": [
    {
     "name": "stdout",
     "output_type": "stream",
     "text": [
      "Predictions:\n",
      "\n",
      "Review: It is a awesome movie, you should watch it\n",
      "Positive\n",
      "\n",
      "Review: This is a bad movie. I would never recommend it to anyone.\n",
      "Negative\n",
      "\n",
      "Review: The action of salman khan is pretty great in this movie\n",
      "Positive\n",
      "\n",
      "Review: The direction was bad\n",
      "Negative\n"
     ]
    }
   ],
   "source": [
    "print( \"Predictions:\")\n",
    "for review in input:\n",
    "    print(\"\\nReview:\", review)\n",
    "    probdist = classifier.prob_classify(extract_features(review.split()))\n",
    "    pred_sentiment = probdist.max()\n",
    "    print(pred_sentiment)"
   ]
  },
  {
   "cell_type": "markdown",
   "metadata": {},
   "source": [
    "printing with the probabilty rate"
   ]
  },
  {
   "cell_type": "code",
   "execution_count": 38,
   "metadata": {},
   "outputs": [
    {
     "name": "stdout",
     "output_type": "stream",
     "text": [
      "\n",
      "Predictions:\n",
      "\n",
      "Review: It is a awesome movie, you should watch it\n",
      "Sentiment: Positive\n",
      "Probability: 0.63\n",
      "\n",
      "Review: This is a bad movie. I would never recommend it to anyone.\n",
      "Sentiment: Negative\n",
      "Probability: 0.64\n",
      "\n",
      "Review: The action of salman khan is pretty great in this movie\n",
      "Sentiment: Positive\n",
      "Probability: 0.61\n",
      "\n",
      "Review: The direction was bad\n",
      "Sentiment: Negative\n",
      "Probability: 0.62\n"
     ]
    }
   ],
   "source": [
    "print( \"\\nPredictions:\")\n",
    "for review in input:\n",
    "    print(\"\\nReview:\", review)\n",
    "    probdist = classifier.prob_classify(extract_features(review.split()))\n",
    "    pred_sentiment = probdist.max()\n",
    "    print(\"Sentiment:\", pred_sentiment)\n",
    "    print( \"Probability:\", round(probdist.prob(pred_sentiment),2))"
   ]
  },
  {
   "cell_type": "markdown",
   "metadata": {},
   "source": [
    "How does the Code work?\n",
    "\n",
    "We have used NLTK’s Naive Bayes classifier here. \n",
    "\n",
    "In the feature extractor function, we basically extract all the unique words. \n",
    "\n",
    "but NLTK classifier needs the data to be arranged in the form of a dictionary. \n",
    "\n",
    "So we arranged it in such a way that the NLTK classifier object can understand it.\n",
    "\n",
    "After dividing the data into training and testing datasets, \n",
    "we train the classifier to categorize the sentences into positive and negative. \n",
    "\n",
    "If you look at the top informative words, you can see that we have words such as “outstanding” to indicate positive reviews and words such as “insulting” to indicate negative reviews. \n",
    "\n",
    "This is interesting information because it tells us what words are being used to indicate strong reactions.\n",
    "\n",
    "Thus we learn how to perform Sentiment Analysis in Python. "
   ]
  },
  {
   "cell_type": "markdown",
   "metadata": {},
   "source": [
    "# ++++++++ Web Scrapping for reviews ++++++++++"
   ]
  },
  {
   "cell_type": "markdown",
   "metadata": {},
   "source": [
    "importing required libraries"
   ]
  },
  {
   "cell_type": "code",
   "execution_count": 39,
   "metadata": {},
   "outputs": [],
   "source": [
    "from urllib.request import urlopen\n",
    "from bs4 import BeautifulSoup"
   ]
  },
  {
   "cell_type": "markdown",
   "metadata": {},
   "source": [
    "xxxxxxxx product name"
   ]
  },
  {
   "cell_type": "code",
   "execution_count": 42,
   "metadata": {},
   "outputs": [
    {
     "name": "stdout",
     "output_type": "stream",
     "text": [
      "1\n",
      "2\n",
      "3\n",
      "4\n",
      "5\n",
      "6\n",
      "7\n"
     ]
    }
   ],
   "source": [
    "from urllib.request import urlopen\n",
    "from bs4 import BeautifulSoup\n",
    "file = \"D:/DataScience/Introtallent/Python Project.csv\"\n",
    "f = open(file, \"w\", encoding='utf-8')\n",
    "Headers = \"Index,Reviews\\n\"\n",
    "f.write(Headers)\n",
    "for page in range(1,8):\n",
    "    print(page)\n",
    "    url = 'https://www.ecommerceWebsiteName.com/abc/product-reviews/xyzxyz/ref=cm_cr_getr_d_paging_btm_prev_{}?ie=UTF8&reviewerType=all_reviews&pageNumber={}'.format(page,page)\n",
    "    html = urlopen(url)\n",
    "    soup = BeautifulSoup(html,\"html.parser\")\n",
    "    Title = soup.find_all(\"div\", {\"class\":\"a-section review aok-relative\"})\n",
    "    for i in Title:\n",
    "        pos_name = i.find(\"span\", {\"class\":\"a-size-base review-text review-text-content\"}).get_text()\n",
    "        f.write(\"{}\".format(pos_name).replace(\",\",\"|\"))\n",
    "f.close()"
   ]
  },
  {
   "cell_type": "markdown",
   "metadata": {},
   "source": [
    "importing other lib"
   ]
  },
  {
   "cell_type": "code",
   "execution_count": 44,
   "metadata": {},
   "outputs": [],
   "source": [
    "import pandas as pd"
   ]
  },
  {
   "cell_type": "code",
   "execution_count": 45,
   "metadata": {},
   "outputs": [],
   "source": [
    "review_data = pd.read_csv(\"D:/DataScience/Introtallent/Python Project.csv\")"
   ]
  },
  {
   "cell_type": "markdown",
   "metadata": {},
   "source": [
    "pre processing our data set"
   ]
  },
  {
   "cell_type": "code",
   "execution_count": 47,
   "metadata": {},
   "outputs": [],
   "source": [
    "import re\n",
    "def pre_process(text):\n",
    "    \n",
    "    # lowercase\n",
    "    text=text.lower()\n",
    "    \n",
    "    #remove tags\n",
    "    text=re.sub(\"<!--?.*?-->\",\"\",text)\n",
    "    \n",
    "    # remove special characters and digits\n",
    "    text=re.sub(\"(\\\\d|\\\\W)+\",\" \",text)\n",
    "    \n",
    "    return text"
   ]
  },
  {
   "cell_type": "code",
   "execution_count": 48,
   "metadata": {},
   "outputs": [],
   "source": [
    "review_data['Index'] = review_data['Index'].apply(lambda x:pre_process(x))"
   ]
  },
  {
   "cell_type": "markdown",
   "metadata": {},
   "source": [
    "Converting our dataset to list"
   ]
  },
  {
   "cell_type": "code",
   "execution_count": 50,
   "metadata": {},
   "outputs": [],
   "source": [
    "doc = review_data['Index'].tolist()"
   ]
  },
  {
   "cell_type": "markdown",
   "metadata": {},
   "source": [
    "Running the pre build classifier on those input sentences and obtaining the prediction"
   ]
  },
  {
   "cell_type": "code",
   "execution_count": 52,
   "metadata": {},
   "outputs": [
    {
     "name": "stdout",
     "output_type": "stream",
     "text": [
      "Predictions:\n",
      "\n",
      "Review: especially with an item that is counterfeited as often as egyptian cotton sheets you can t just depend on the product description you must also consider who is selling the product lowest price is not always the most important factor someone can list a product labeled egyptian quality but that is really just synthetic material under the same label as the genuine product i suspect that many of the poorer ratings here came from that situation look for sellers who have a good rating for many sales not just a small number i can only rate the product received based on the particular seller i bought from egyptian cotton factory outlet store i chose this seller because of their high ratings and because i assumed that their shipping from inside the us would have faster delivery than other sellers who imported i am sure that many of the other sellers also have a good product but i did not purchase from them the product that i received from the seller that i chose was outstanding the product was clearly labeled egyptian cotton and also had the seal of the egyptian government i have found good egyptian cotton sheets in the past but these were the best i have seen the sheets are lighter weight than prior purchases which gives them a much softer feel the pillow cases are a little smaller tighter than prior purchases but they still fit the pillows and actually seem to provide a more snug fit where you don t have to fold excess material under i have nothing negative to say about this order definitely stars \n",
      "\n",
      "Sentiment: Positive\n",
      "\n",
      "Review: i bought these months ago when i was having trouble finding queen sheets with deep enough pockets here locally i also don t have days to just drag myself from place to place looking for sheets with a great price of a hundred bucks i figured i should give these a try just for the record i can be pretty picky with sheets i also sleep with a duvet rather than a top sheet and use the top sheet on top of the duvet to keep the doggie hair away so how it washes becomes critically important i also only use white sheets and covers again meaning that how it washes is crucial after getting the package well packaged and quick i washed the sheets per directions and they fluffed up very nicely with that new sheet look egyptian cotton long staple has a unique look and feel to it and these definitely had that the pockets were finally deep enough for my bed and it fit just right several washes later the softness really increased and they reached perfect comfort level now after months of being switched out to be used every third week on the bed sets changed each week they are still in perfect condition the occasionally dirty dog leaves his share of dinginess on the top sheet but so far none of it has stayed after washing and they look pretty much brand new i will say they did shrink a little however as they did get tighter around the pocket i m assuming my dryer went a little higher in temp or time at some point based on the other reviews i think there may be a consistency problem the descriptions of the sheets vary quite a bit so anyone considering these should keep that in mind great buy for me at a great price \n",
      "\n",
      "Sentiment: Positive\n",
      "\n",
      "Review: we bought a wonderful mattress a few years ago the only problem is that none of the inch sheets sold in the stores and on line fit properly consequently the sheets would bunch up under neath us as we rolled around in our sleep it wasn t until i stumbled upon a inch set of sheets in homegoods however it was a fluke finding that size sheets after searching every store in town we finally found these on line they aren t cheap and they weren t delivered in days more like three weeks but now we have a second set of fitted sheets that give us comfort for a good nights sleep \n",
      "\n",
      "Sentiment: Negative\n",
      "\n",
      "Review: i was very disappointed with the quality of these sheets says thread count egyptian cotton very thin and after two washings the fitted sheet is balling up and makes sleeping very uncomfortable for this reason i would not buy again although they did fit my deep pocketed mattress \n",
      "\n",
      "Sentiment: Negative\n",
      "\n",
      "Review: the only good thing about these sheets is how deep the pockets are other than that they are the worst sheets i have ever owned the crisp high thread county quality i was hoping for washed out in the first wash and dry my lint trap was full after the first dryer cycle do not buy \n",
      "\n",
      "Sentiment: Negative\n",
      "\n",
      "Review: the product is not as described the only good thing i can say is the vendor promptly refunded my purchase price \n",
      "\n",
      "Sentiment: Negative\n",
      "\n",
      "Review: answer to our prayers stays on and tucked i accidentally ordered a queen size they exchanged it quickly with no problems \n",
      "\n",
      "Sentiment: Positive\n",
      "\n",
      "Review: i highly recommend these sheets after a year of trying different brands i finally found one with deep enough pockets material is super soft and does not shrink i will buy more of these in the future worth every penny \n",
      "\n",
      "Sentiment: Negative\n",
      "\n",
      "Review: i have purchased high thread count sheets numerous times i cannot imagine how these are categorized with them they are paper thin and look like they will fall apart in one or two washings i don t know what else to say other than pick something else \n",
      "\n",
      "Sentiment: Negative\n",
      "\n",
      "Review: cheap poor stitching definitely not thread count complete rip off scam \n",
      "\n",
      "Sentiment: Negative\n",
      "\n",
      "Review: we needed these for our deep mattress and i bought sets the first set became pulled even though i dried on low setting so they remain in the closet \n",
      "\n",
      "Sentiment: Positive\n",
      "\n",
      "Review: exactly as ordered no surprises and delivered to my door for the price these are really nice sheets my wife and i love them \n",
      "\n",
      "Sentiment: Positive\n",
      "\n",
      "Review: these sheets fit perfect with a little room to spare over a pillow top mattress with a novaform gel memory foam mattress topper from costco they have kept their shape through several washes the only criticism i have for being egyptian cotton with a thread count is they seem scratchy and not as soft as i expected for a high thread count \n",
      "\n",
      "Sentiment: Positive\n",
      "\n",
      "Review: doesn t feel like egyptian cotton\n",
      "\n",
      "Sentiment: Positive\n",
      "\n",
      "Review: inferior quality bought in december from another dealer for a nd home used less than a month and is deteriorating \n",
      "\n",
      "Sentiment: Positive\n",
      "\n",
      "Review: i was expecting them to be thicker and crisper the wordage on the internet advertising painted that picture disappointed\n",
      "\n",
      "Sentiment: Positive\n",
      "\n",
      "Review: i have not yet washed these sheets but as compared with thread count sheet set which i bought in a store this sheet set does not feel as soft otherwise they are fine and indeed have deep pockets \n",
      "\n",
      "Sentiment: Positive\n",
      "\n",
      "Review: deep pockets very soft\n",
      "\n",
      "Sentiment: Negative\n",
      "\n",
      "Review: very nice quality \n",
      "\n",
      "Sentiment: Positive\n",
      "\n",
      "Review: definitely deep pockets a little light on the material though time will tell how they will hold up over time but these are summer weight at best \n",
      "\n",
      "Sentiment: Negative\n",
      "\n",
      "Review: we love these sheets they fit the bed perfect \n",
      "\n",
      "Sentiment: Positive\n",
      "\n",
      "Review: square deal felt a little stiff for thread count but good price and well made \n",
      "\n",
      "Sentiment: Negative\n",
      "\n",
      "Review: nice quality \n",
      "\n",
      "Sentiment: Positive\n",
      "\n",
      "Review: fit awesome\n",
      "\n",
      "Sentiment: Positive\n",
      "\n",
      "Review: it shrinks and doesn t quite fit my bed also the sheets were delivered to my old address on rd avenue in spokane thank goodness the new owner of my previous house knew my old neighbors could contact me laurie\n",
      "\n",
      "Sentiment: Positive\n",
      "\n",
      "Review:  deep pocket sheet is perfect fit than or deep\n",
      "\n",
      "Sentiment: Positive\n",
      "\n",
      "Review: like it\n",
      "\n",
      "Sentiment: Negative\n",
      "\n",
      "Review: the bottom fitted sheet shrunk on this set very hard to make the bed \n",
      "\n",
      "Sentiment: Negative\n",
      "\n",
      "Review: these are so soft so comfortable i m so glad i bought of them \n",
      "\n",
      "Sentiment: Positive\n",
      "\n",
      "Review: i was expecting heavy cotton sheets they are not they do however fit my mattress i m a bit disappointed \n",
      "\n",
      "Sentiment: Negative\n",
      "\n",
      "Review: the fitted sheet won t even fit my mattress don t waste your money \n",
      "\n",
      "Sentiment: Negative\n",
      "\n",
      "Review: not even close to thread count more like very soft though \n",
      "\n",
      "Sentiment: Negative\n",
      "\n",
      "Review: i love very much this kind of texture soft and crispy at the same time i will definitely re order same product\n",
      "\n",
      "Sentiment: Positive\n",
      "\n",
      "Review: cheap material \n",
      "\n",
      "Sentiment: Negative\n",
      "\n",
      "Review: would not purchase again washed twice and have knots on them \n",
      "\n",
      "Sentiment: Negative\n",
      "\n",
      "Review: finnally sheets that are deep enough and the best feel ever trust my opinion because i m a sheet snob i ve tried all kinds and i m ordering another set of these now \n",
      "\n",
      "Sentiment: Negative\n",
      "\n",
      "Review: i ordered thread count hoping they were slightly thicker than my existing thread count sheets this appears not to be the case otherwise they are well made hilary australia\n",
      "\n",
      "Sentiment: Positive\n",
      "\n",
      "Review: wonderful very soft and met my expectations \n",
      "\n",
      "Sentiment: Positive\n",
      "\n",
      "Review: these sheets fit perfectly its so nice to not have to pull the sheets back on every time i get out of bed they are so soft right out of the package i m definitely getting another set \n",
      "\n",
      "Sentiment: Positive\n",
      "\n",
      "Review: grest quality\n",
      "\n",
      "Sentiment: Negative\n",
      "\n",
      "Review: i bought these thinking i was getting thread count egyptian cotton sheets i have bought several sets of pioneer sheets from another seller and loved them however these came in silky like satin the lint was awful i had to vacuum out my dryer and floor wipe out my washing machine wash the sheets twice and take them outside to shake the lint of they were less expensive than the others i had ordered i thought i was getting a better deal however i would not have bought these sheets if i knew they were satin feel i don t think they have cotton in them at all i can t find a tag on them either wish i could return them i m showing photos of the lint i m also comparing the sheets with the satin texture with the other egyptian cotton sheets that i bought you can see the difference if you like satin feel sheets these sheets are for you \n",
      "\n",
      "Sentiment: Positive\n",
      "\n",
      "Review: nicely soft but the mattress sheet rubber band is stretched out have to use clips to keep it in place https www amazon com gp aw d b m juj h ref mp_s_a_ _ ie utf qid sr sponsπ ac_sx _sy _ql keywords mattress bsheet bclips psc smid a jcs prdr kt th \n",
      "\n",
      "Sentiment: Negative\n",
      "\n",
      "Review: i am not impressed with egyptian cotton these sheets seem to have loose fibers that you can see and feel and they are not the soft i expect from cotton my sheets already have holes tears at one corner i would not buy this item again \n",
      "\n",
      "Sentiment: Positive\n",
      "\n",
      "Review: i bought these for my sister she loves them she says they are very soft and fit her bed well she washed then first and dried them as she would normally says they are still together and still fit her bed \n",
      "\n",
      "Sentiment: Positive\n",
      "\n",
      "Review: the sheets have gone through two washings on cold setting and the fitted sheet has already began to shrink which like its predecessor egyptian cotton sheets with pockets will sooner or later be very to make the bed with \n",
      "\n",
      "Sentiment: Positive\n",
      "\n",
      "Review: needs to be laundryed several times because it has fuss balls after the laundry or times the sheets were great \n",
      "\n",
      "Sentiment: Positive\n",
      "\n",
      "Review: don t believe them that this will fit a pocket someone needs to explain just because i can stretch it over the mattress isn t the only function of a sheet it needs to stay in place while i sleep continued to shrink with each washing now my queen fitted sheet is on my guest bed i figure friends and family can fight with it \n",
      "\n",
      "Sentiment: Negative\n",
      "\n",
      "Review: after buying numerous sheets for my huge mattress this set finally meets my needs i have a inch latex mattress with pillowtop and these sheets fit perfectly the comfort of these sheets is on par with what i ve slept on at star hotels the elastic works great too because the sheets don t slide off the bed update year later i originally forgot to mention that the sheets took a few washes before feeling very comfortable soft but think that is worth mentioning now the sheets are still comfortable and have held up well through numerous washes there are some small strings loose around the stitching but nothing that is going to unravel the only possible con worth mentioning is the high thread count has a minor trade off the sheets are not very breathable i m a very hot sleeper and could not rest well with a partner if temps were above f or so ultimately i m still happy with these and will purchase again when needed the girlfriends liked em too cheers \n",
      "\n",
      "Sentiment: Positive\n",
      "\n",
      "Review: finally sheets that stay on thick mattresses so soft too\n",
      "\n",
      "Sentiment: Negative\n",
      "\n",
      "Review: i love my sheets the fabric is great i don t have to struggle getting the corners over my mattress and i intend to buy another set i recommend this sheet set to anyone who likes the feel of clean crisp bedding \n",
      "\n",
      "Sentiment: Positive\n",
      "\n",
      "Review: these sheets are very good quality soft and strong im very pleased with this purchase \n",
      "\n",
      "Sentiment: Negative\n",
      "\n",
      "Review: these sheets are so soft and fit my mattress great there is no slippage from the corners i ve washed them and they come out fantastic \n",
      "\n",
      "Sentiment: Negative\n",
      "\n",
      "Review: great strong sheets nice and crisp wash extremely well in cold water and dry on low heat very happy with my purchase \n",
      "\n",
      "Sentiment: Positive\n",
      "\n",
      "Review: fast service excellent quality gave as gift well liked thanks \n",
      "\n",
      "Sentiment: Positive\n",
      "\n",
      "Review: it s a nice set of sheets\n",
      "\n",
      "Sentiment: Positive\n",
      "\n",
      "Review: i was slightly wary that these would be cheap sheets since the other reviews don t rave about them i loved them right out of the package i have been sleeping on silk sheets for a few months and moving over to these was not as bad as i expected they are pretty soft and after washing them they were even better and my washer dryer are ancient \n",
      "\n",
      "Sentiment: Positive\n",
      "\n",
      "Review: really nice and soft \n",
      "\n",
      "Sentiment: Positive\n",
      "\n",
      "Review: love these sheets so glad i could fine sheets that fit my very oversized mattress \n",
      "\n",
      "Sentiment: Negative\n",
      "\n",
      "Review: i purchased this set specifically for the fitted sheet i have a previously purchased set from another company white with trim embellishments for which i ruined the fitted sheet my older set is tc the older set has been washed dozens of times the older set is still better quality and with a denser thicker thread count there is no way this product is tc unless the threads used were seriously defective i thought perhaps the other complaints were unfounded they are not perhaps the company has several offerings they are using to fill this order the product sheet inside the package was hand marked as to the quality boxes checked off so perhaps they were simply mislabeled as opposed to outright fraud in any event beware \n",
      "\n",
      "Sentiment: Positive\n",
      "\n",
      "Review: very good quality and reasonably price definitely more expensive if you buy it at department stores fast service and reliable \n",
      "\n",
      "Sentiment: Positive\n",
      "\n",
      "Review: just a thought top sheet should have been made larger \n",
      "\n",
      "Sentiment: Negative\n",
      "\n",
      "Review: i was very disappointed in these sheets they are rough and after one wash they began to pile these were so uncomfortable that i had to throw them away do not buy these sheets \n",
      "\n",
      "Sentiment: Negative\n"
     ]
    }
   ],
   "source": [
    "print(\"Predictions:\")\n",
    "for review in doc:\n",
    "    print(\"\\nReview:\", review)\n",
    "    probdist = classifier.prob_classify(extract_features(review.split()))\n",
    "    pred_sentiment = probdist.max()\n",
    "    print(\"\\nSentiment:\",pred_sentiment)"
   ]
  },
  {
   "cell_type": "code",
   "execution_count": null,
   "metadata": {},
   "outputs": [],
   "source": []
  }
 ],
 "metadata": {
  "kernelspec": {
   "display_name": "Python 3",
   "language": "python",
   "name": "python3"
  },
  "language_info": {
   "codemirror_mode": {
    "name": "ipython",
    "version": 3
   },
   "file_extension": ".py",
   "mimetype": "text/x-python",
   "name": "python",
   "nbconvert_exporter": "python",
   "pygments_lexer": "ipython3",
   "version": "3.7.3"
  }
 },
 "nbformat": 4,
 "nbformat_minor": 2
}
